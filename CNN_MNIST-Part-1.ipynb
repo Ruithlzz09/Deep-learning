{
 "cells": [
  {
   "cell_type": "markdown",
   "metadata": {},
   "source": [
    "Dated: 30-3-18\n",
    "\n",
    "CNN Tutorial with adam and using Data Augmentation\n",
    "\n",
    "Dataset-- MNIST\n",
    "\n",
    "In this tutorial, i am going to show simple CNN network working  with data augmentation and matplot display for images\n",
    "\n",
    "Data Augmentation is done for the purpose of creating dataset(mainly images more variety)...\n",
    "\n",
    "It can helpful for creating a dataset with much more richer images\n",
    "\n",
    "The model is trained on small amt of data only...."
   ]
  },
  {
   "cell_type": "markdown",
   "metadata": {},
   "source": [
    "Installing Dependencies"
   ]
  },
  {
   "cell_type": "code",
   "execution_count": 2,
   "metadata": {},
   "outputs": [],
   "source": [
    "import keras.backend as K\n",
    "K._backend='tensorflow' if K.backend() else print(\"Requires no change in backend\")"
   ]
  },
  {
   "cell_type": "code",
   "execution_count": 3,
   "metadata": {},
   "outputs": [],
   "source": [
    "#Basic Necessary libraries\n",
    "import numpy as np\n",
    "import pandas as pd\n",
    "import matplotlib.pyplot as plt\n",
    "%matplotlib inline\n",
    "np.random.seed(124) #for reproducibility purpose"
   ]
  },
  {
   "cell_type": "code",
   "execution_count": 4,
   "metadata": {},
   "outputs": [],
   "source": [
    "#Installing Main Libraries\n",
    "from keras.datasets import mnist\n",
    "\n",
    "from keras.models import Sequential\n",
    "\n",
    "from keras.layers import Conv2D,MaxPooling2D,GlobalAveragePooling2D\n",
    "from keras.layers import Dense,Dropout,Activation,Flatten\n",
    "from keras.layers.normalization import BatchNormalization\n",
    "from keras.layers.advanced_activations import LeakyReLU\n",
    "from keras.optimizers import adam\n",
    "from keras.utils import np_utils\n",
    "from keras.preprocessing.image import ImageDataGenerator\n"
   ]
  },
  {
   "cell_type": "code",
   "execution_count": 5,
   "metadata": {},
   "outputs": [],
   "source": [
    "#Creating Training and Testing data\n",
    "(trainX,trainY),(testX,testY)=mnist.load_data()\n"
   ]
  },
  {
   "cell_type": "code",
   "execution_count": 6,
   "metadata": {},
   "outputs": [
    {
     "data": {
      "image/png": "[encoded data removed]",
      "text/plain": [
       "<Figure size 432x288 with 1 Axes>"
      ]
     },
     "metadata": {},
     "output_type": "display_data"
    },
    {
     "name": "stdout",
     "output_type": "stream",
     "text": [
      "(28, 28)\n"
     ]
    }
   ],
   "source": [
    "#Showing Mnist Image of 5 digit\n",
    "plt.imshow(trainX[0],cmap='gray')\n",
    "plt.xticks([])\n",
    "plt.yticks([])\n",
    "plt.title(\"Class: \"+str(trainY[0]))\n",
    "plt.show()\n",
    "print(trainX[0].shape)"
   ]
  },
  {
   "cell_type": "code",
   "execution_count": 7,
   "metadata": {},
   "outputs": [
    {
     "name": "stdout",
     "output_type": "stream",
     "text": [
      "(60000, 28, 28, 1)\n",
      "(60000, 28, 28, 1) (10000, 28, 28, 1) (60000,) (10000,)\n"
     ]
    }
   ],
   "source": [
    "#Preprocessing Input Data i.e X\n",
    "trainX=trainX.reshape(trainX.shape[0],28,28,1)\n",
    "testX=testX.reshape(testX.shape[0],28,28,1)\n",
    "print(trainX.shape)\n",
    "\n",
    "\n",
    "trainX=trainX.astype('float32')\n",
    "testX=testX.astype('float32')\n",
    "trainX/=255\n",
    "testX/=255\n",
    "\n",
    "print(trainX.shape,testX.shape,trainY.shape,testY.shape)"
   ]
  },
  {
   "cell_type": "code",
   "execution_count": 8,
   "metadata": {},
   "outputs": [
    {
     "name": "stdout",
     "output_type": "stream",
     "text": [
      "(60000,)\n",
      "(60000, 10) (10000, 10)\n"
     ]
    }
   ],
   "source": [
    "#Preprocessing Output label i.e. Y\n",
    "num_class=10\n",
    "print(trainY.shape)\n",
    "trainY=np_utils.to_categorical(trainY,num_class)\n",
    "testY=np_utils.to_categorical(testY,num_class)\n",
    "print(trainY.shape,testY.shape)\n"
   ]
  },
  {
   "cell_type": "markdown",
   "metadata": {},
   "source": [
    "### Creating Convolution Architecture\n",
    "# 1.Convolution\n",
    "# 2.Pooling\n",
    "# 3.Dropout\n",
    "Repeat step 1,2,3 to add more convolution layers in network\n",
    "\n",
    "# 4.Fully Connected layer\n",
    "Repeat to add more feed forward layers\n",
    "\n",
    "# 5.Flatten\n",
    "# 6.Classify Sample"
   ]
  },
  {
   "cell_type": "markdown",
   "metadata": {},
   "source": [
    "Creating Architecture for CNN Model"
   ]
  },
  {
   "cell_type": "code",
   "execution_count": 10,
   "metadata": {},
   "outputs": [],
   "source": [
    "#Model Creation phase\n",
    "model=Sequential()\n",
    "model.add(Conv2D(32,(3,3),input_shape=(28,28,1)))\n",
    "model.add(Activation('relu'))\n",
    "BatchNormalization(axis=-1)\n",
    "model.add(Conv2D(32,(3,3)))\n",
    "model.add(Activation('relu'))\n",
    "model.add(MaxPooling2D(pool_size=(2,2)))\n",
    "\n",
    "BatchNormalization(axis=-1)\n",
    "model.add(Conv2D(64,(3,3)))\n",
    "model.add(Activation('relu'))\n",
    "model.add(MaxPooling2D(pool_size=(2,2)))\n",
    "model.add(Flatten())\n",
    "\n",
    "#Creating Fully Connected Network\n",
    "model.add(Dense(512))\n",
    "model.add(Activation('relu'))\n",
    "BatchNormalization(axis=-1)\n",
    "model.add(Dense(256))\n",
    "BatchNormalization(axis=-1)\n",
    "model.add(Dropout(0.5))\n",
    "model.add(Dense(10))\n",
    "model.add(Activation('softmax'))\n",
    "\n",
    "#compilation phase\n",
    "#finding loss and backpropagating\n",
    "model.compile(loss='categorical_crossentropy',optimizer=\"rmsprop\",metrics=['accuracy'])"
   ]
  },
  {
   "cell_type": "code",
   "execution_count": 11,
   "metadata": {},
   "outputs": [
    {
     "name": "stdout",
     "output_type": "stream",
     "text": [
      "_________________________________________________________________\n",
      "Layer (type)                 Output Shape              Param #   \n",
      "=================================================================\n",
      "conv2d_4 (Conv2D)            (None, 26, 26, 32)        320       \n",
      "_________________________________________________________________\n",
      "activation_6 (Activation)    (None, 26, 26, 32)        0         \n",
      "_________________________________________________________________\n",
      "conv2d_5 (Conv2D)            (None, 24, 24, 32)        9248      \n",
      "_________________________________________________________________\n",
      "activation_7 (Activation)    (None, 24, 24, 32)        0         \n",
      "_________________________________________________________________\n",
      "max_pooling2d_3 (MaxPooling2 (None, 12, 12, 32)        0         \n",
      "_________________________________________________________________\n",
      "conv2d_6 (Conv2D)            (None, 10, 10, 64)        18496     \n",
      "_________________________________________________________________\n",
      "activation_8 (Activation)    (None, 10, 10, 64)        0         \n",
      "_________________________________________________________________\n",
      "max_pooling2d_4 (MaxPooling2 (None, 5, 5, 64)          0         \n",
      "_________________________________________________________________\n",
      "flatten_2 (Flatten)          (None, 1600)              0         \n",
      "_________________________________________________________________\n",
      "dense_4 (Dense)              (None, 512)               819712    \n",
      "_________________________________________________________________\n",
      "activation_9 (Activation)    (None, 512)               0         \n",
      "_________________________________________________________________\n",
      "dense_5 (Dense)              (None, 256)               131328    \n",
      "_________________________________________________________________\n",
      "dropout_2 (Dropout)          (None, 256)               0         \n",
      "_________________________________________________________________\n",
      "dense_6 (Dense)              (None, 10)                2570      \n",
      "_________________________________________________________________\n",
      "activation_10 (Activation)   (None, 10)                0         \n",
      "=================================================================\n",
      "Total params: 981,674\n",
      "Trainable params: 981,674\n",
      "Non-trainable params: 0\n",
      "_________________________________________________________________\n"
     ]
    }
   ],
   "source": [
    "model.summary()"
   ]
  },
  {
   "cell_type": "code",
   "execution_count": 12,
   "metadata": {},
   "outputs": [],
   "source": [
    "#Data Augmentation for creating rich datset\n",
    "traingen = ImageDataGenerator(rotation_range=8, width_shift_range=0.08, shear_range=0.3,\n",
    "                         height_shift_range=0.08, zoom_range=0.08) #for training data augmentation ....properties are defined\n",
    "\n",
    "testgen=ImageDataGenerator()  #for test data we don't need anytype of augmentation"
   ]
  },
  {
   "cell_type": "code",
   "execution_count": 13,
   "metadata": {},
   "outputs": [],
   "source": [
    "#defining Genrator training phase\n",
    "train_generator=traingen.flow(trainX,trainY,batch_size=64)\n",
    "test_generator=testgen.flow(testX,testY,batch_size=64)\n"
   ]
  },
  {
   "cell_type": "markdown",
   "metadata": {},
   "source": [
    "# Training Phase"
   ]
  },
  {
   "cell_type": "code",
   "execution_count": 16,
   "metadata": {},
   "outputs": [
    {
     "name": "stdout",
     "output_type": "stream",
     "text": [
      "Epoch 1/3\n",
      "300/300 [==============================] - 220s 735ms/step - loss: 0.0590 - acc: 0.9825 - val_loss: 0.0218 - val_acc: 0.9922\n",
      "Epoch 2/3\n",
      "300/300 [==============================] - 165s 549ms/step - loss: 0.0621 - acc: 0.9827 - val_loss: 0.0303 - val_acc: 0.9903\n",
      "Epoch 3/3\n",
      "300/300 [==============================] - 116s 388ms/step - loss: 0.0574 - acc: 0.9835 - val_loss: 0.0373 - val_acc: 0.9900\n"
     ]
    }
   ],
   "source": [
    "\n",
    "data=model.fit_generator(train_generator,steps_per_epoch=60000//200,\n",
    "                   epochs=3,validation_data=test_generator,validation_steps=10000//200)"
   ]
  },
  {
   "cell_type": "code",
   "execution_count": 17,
   "metadata": {},
   "outputs": [
    {
     "name": "stdout",
     "output_type": "stream",
     "text": [
      "10000/10000 [==============================] - 17s 2ms/step\n",
      "Loss: 0.0422 \t Accuracy: 98.7%\n"
     ]
    }
   ],
   "source": [
    "#Prediciting Accuracy\n",
    "score=model.evaluate(testX,testY)\n",
    "print(\"Loss: {0} \\t Accuracy: {1}%\".format(round(score[0],5),round(score[1],3)*100))"
   ]
  },
  {
   "cell_type": "code",
   "execution_count": null,
   "metadata": {},
   "outputs": [],
   "source": []
  }
 ],
 "metadata": {
  "kernelspec": {
   "display_name": "Python 3",
   "language": "python",
   "name": "python3"
  },
  "language_info": {
   "codemirror_mode": {
    "name": "ipython",
    "version": 3
   },
   "file_extension": ".py",
   "mimetype": "text/x-python",
   "name": "python",
   "nbconvert_exporter": "python",
   "pygments_lexer": "ipython3",
   "version": "3.6.4"
  }
 },
 "nbformat": 4,
 "nbformat_minor": 2
}
