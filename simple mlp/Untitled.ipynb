{
 "cells": [
  {
   "cell_type": "markdown",
   "metadata": {},
   "source": [
    "This tutorial is aimed at making use of simple Dense Layers in- order to show features of keras\n",
    "\n",
    "It also has features like use of tensorboard and model saving and load"
   ]
  },
  {
   "cell_type": "code",
   "execution_count": 199,
   "metadata": {},
   "outputs": [],
   "source": [
    "import keras.backend as K\n",
    "K._backend=\"tensorflow\" if K.backend() else print(\"NO NEED TO CHANGE BACKEND\")"
   ]
  },
  {
   "cell_type": "code",
   "execution_count": 200,
   "metadata": {},
   "outputs": [],
   "source": [
    "import os\n",
    "import matplotlib.pyplot as plt"
   ]
  },
  {
   "cell_type": "code",
   "execution_count": 201,
   "metadata": {},
   "outputs": [],
   "source": [
    "from keras.models import Sequential\n",
    "from keras.layers.core import Dense,Activation\n",
    "from keras.optimizers import SGD,RMSprop,adam\n",
    "from keras.callbacks import *\n",
    "from keras.datasets import mnist\n",
    "from keras.utils.np_utils import to_categorical\n",
    "from keras.utils import plot_model\n"
   ]
  },
  {
   "cell_type": "code",
   "execution_count": 202,
   "metadata": {},
   "outputs": [],
   "source": [
    "#Model Characteristics\n",
    "nb_class=10\n",
    "epochs=10\n",
    "batch=128"
   ]
  },
  {
   "cell_type": "code",
   "execution_count": 203,
   "metadata": {},
   "outputs": [
    {
     "name": "stdout",
     "output_type": "stream",
     "text": [
      "(60000, 28, 28) (60000,) (10000, 28, 28) (10000,)\n"
     ]
    }
   ],
   "source": [
    "#loading dataset\n",
    "(trainx,trainy),(testx,testy)=mnist.load_data()\n",
    "print(trainx.shape,trainy.shape,testx.shape,testy.shape)"
   ]
  },
  {
   "cell_type": "code",
   "execution_count": 204,
   "metadata": {},
   "outputs": [
    {
     "name": "stdout",
     "output_type": "stream",
     "text": [
      "(60000, 784) (10000, 784)\n"
     ]
    }
   ],
   "source": [
    "#Preprocessing feature data\n",
    "trainx=(trainx.reshape(trainx.shape[0],-1).astype(\"float32\"))/255\n",
    "testx=(testx.reshape(testx.shape[0],-1).astype(\"float32\"))/255\n",
    "\n",
    "print(trainx.shape,testx.shape)"
   ]
  },
  {
   "cell_type": "code",
   "execution_count": 205,
   "metadata": {},
   "outputs": [
    {
     "name": "stdout",
     "output_type": "stream",
     "text": [
      "(60000, 10) (10000, 10)\n"
     ]
    }
   ],
   "source": [
    "#pre-processing label data---to be use with pre-caution\n",
    "trainy=to_categorical(trainy,num_classes=10)\n",
    "testy=to_categorical(testy,num_classes=10)\n",
    "print(trainy.shape,testy.shape)"
   ]
  },
  {
   "cell_type": "markdown",
   "metadata": {},
   "source": [
    "Defining 3 layers Dense Connected Network"
   ]
  },
  {
   "cell_type": "code",
   "execution_count": 206,
   "metadata": {},
   "outputs": [],
   "source": [
    "def display(img,label=None,flag=False,resize=(28,28)):\n",
    "    for i in img:\n",
    "        i=i.reshape(resize)\n",
    "        plt.imshow(i,cmap='hsv',interpolation='nearest')\n",
    "        plt.xticks([])\n",
    "        plt.yticks([])\n",
    "        plt.grid()\n",
    "        plt.title(label)\n",
    "        plt.grid()\n",
    "        plt.show()\n",
    "\n",
    "        "
   ]
  },
  {
   "cell_type": "code",
   "execution_count": 209,
   "metadata": {},
   "outputs": [
    {
     "data": {
      "image/png": "[encoded data removed]",
      "text/plain": [
       "<Figure size 432x288 with 1 Axes>"
      ]
     },
     "metadata": {},
     "output_type": "display_data"
    }
   ],
   "source": [
    "display(trainx[0:1].copy(),resize=(28,28)) # in order to avoid any chance of data modification"
   ]
  },
  {
   "cell_type": "code",
   "execution_count": 210,
   "metadata": {},
   "outputs": [],
   "source": [
    "#Model // Architecture creation phase\n",
    "model=Sequential()\n",
    "model.add(Dense(128,input_shape=(784,),activation='tanh'))\n",
    "model.add(Dense(64,activation='tanh'))\n",
    "model.add(Dense(10,input_shape=(784,),activation='softmax'))\n",
    "tbCallBack =TensorBoard(log_dir='./Graph', histogram_freq=2,  \n",
    "          write_graph=True, write_images=True)\n",
    "#Compilation Phase\n",
    "model.compile(loss=\"categorical_crossentropy\",optimizer='sgd',metrics=[\"accuracy\"])\n"
   ]
  },
  {
   "cell_type": "code",
   "execution_count": 211,
   "metadata": {},
   "outputs": [
    {
     "name": "stdout",
     "output_type": "stream",
     "text": [
      "_________________________________________________________________\n",
      "Layer (type)                 Output Shape              Param #   \n",
      "=================================================================\n",
      "dense_46 (Dense)             (None, 128)               100480    \n",
      "_________________________________________________________________\n",
      "dense_47 (Dense)             (None, 64)                8256      \n",
      "_________________________________________________________________\n",
      "dense_48 (Dense)             (None, 10)                650       \n",
      "=================================================================\n",
      "Total params: 109,386\n",
      "Trainable params: 109,386\n",
      "Non-trainable params: 0\n",
      "_________________________________________________________________\n"
     ]
    }
   ],
   "source": [
    "#Showing Model Structure\n",
    "model.summary()"
   ]
  },
  {
   "cell_type": "code",
   "execution_count": 217,
   "metadata": {},
   "outputs": [
    {
     "name": "stdout",
     "output_type": "stream",
     "text": [
      "10000/10000 [==============================] - 0s 32us/step\n",
      "Accuracy:92.38 \t loss:0.27625\n"
     ]
    }
   ],
   "source": [
    "hist=model.fit(trainx,trainy,batch_size=256,epochs=10,validation_split=0.2,verbose=0,callbacks=[tbCallBack])\n",
    "score=model.evaluate(testx,testy,batch_size=128)\n",
    "print(\"Accuracy:{1} \\t loss:{0}\".format(round(score[0],5),score[1]*100))"
   ]
  },
  {
   "cell_type": "code",
   "execution_count": null,
   "metadata": {},
   "outputs": [],
   "source": []
  }
 ],
 "metadata": {
  "kernelspec": {
   "display_name": "Python 3",
   "language": "python",
   "name": "python3"
  },
  "language_info": {
   "codemirror_mode": {
    "name": "ipython",
    "version": 3
   },
   "file_extension": ".py",
   "mimetype": "text/x-python",
   "name": "python",
   "nbconvert_exporter": "python",
   "pygments_lexer": "ipython3",
   "version": "3.6.4"
  }
 },
 "nbformat": 4,
 "nbformat_minor": 2
}
