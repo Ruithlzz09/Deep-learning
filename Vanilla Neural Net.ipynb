{
 "cells": [
  {
   "cell_type": "markdown",
   "metadata": {},
   "source": [
    "https://iamtrask.github.io/2015/07/12/basic-python-network/"
   ]
  },
  {
   "cell_type": "code",
   "execution_count": 23,
   "metadata": {},
   "outputs": [],
   "source": [
    "#Dependencies\n",
    "import numpy as np"
   ]
  },
  {
   "cell_type": "code",
   "execution_count": 25,
   "metadata": {},
   "outputs": [],
   "source": [
    "#Input and Output\n",
    "x=np.array([ [0,0,1],[0,1,1],[1,0,1],[1,1,1] ])\n",
    "y = np.array([[0,1,1,0]]).T"
   ]
  },
  {
   "cell_type": "code",
   "execution_count": 27,
   "metadata": {},
   "outputs": [
    {
     "name": "stdout",
     "output_type": "stream",
     "text": [
      "Initial synapses \n",
      "\n",
      "[[ 0.42854107 -0.95015365  0.21948018  0.07377262]\n",
      " [ 0.31893524  0.23530716  0.41449766 -0.68507551]\n",
      " [ 0.84760832 -0.65517271  0.12519385  0.9571083 ]]\n",
      "\n",
      "[[-0.88461816]\n",
      " [-0.77776684]\n",
      " [-0.68741362]\n",
      " [-0.2413986 ]]\n"
     ]
    }
   ],
   "source": [
    "#Synpases / Weights Initialization\n",
    "syn0=2*np.random.random((3,4)) - 1\n",
    "syn1=2*np.random.random((4,1)) - 1\n",
    "print(\"Initial synapses \",end='\\n\\n')\n",
    "print(syn0,syn1,end='\\n',sep='\\n\\n')\n",
    "\n"
   ]
  },
  {
   "cell_type": "code",
   "execution_count": 29,
   "metadata": {},
   "outputs": [
    {
     "name": "stdout",
     "output_type": "stream",
     "text": [
      "Training Complete\n"
     ]
    }
   ],
   "source": [
    "try:\n",
    "    for i in range(60000):\n",
    "        L1=1/(1+ np.exp(-np.dot(x,syn0)))\n",
    "        L2=1/(1+ np.exp(-np.dot(L1,syn1)))\n",
    "\n",
    "        #Backpropagation\n",
    "        l2_delta= (y-L2)*(L2*(1-L2))\n",
    "        l1_delta= l2_delta.dot(syn1.T)* (L1*(1-L1))\n",
    "\n",
    "        #Weight updation\n",
    "        syn1+=L1.T.dot(l2_delta)\n",
    "        syn0+=x.T.dot(l1_delta)\n",
    "    print(\"Training Complete\")\n",
    "\n",
    "except Exception as e:\n",
    "    print(\"Trained upto epochs: \",i)"
   ]
  },
  {
   "cell_type": "code",
   "execution_count": 32,
   "metadata": {},
   "outputs": [
    {
     "name": "stdout",
     "output_type": "stream",
     "text": [
      "Synapses after training \n",
      "\n",
      "[[ 1.63635026 -7.2296919   0.20773408 -5.57538814]\n",
      " [-0.836702   -7.16696901  1.45274509 -5.69180537]\n",
      " [ 1.29045422  3.09786383 -0.40128328  8.48914423]]\n",
      "\n",
      "[[ -3.82358721]\n",
      " [-13.92675463]\n",
      " [ -3.87097779]\n",
      " [ 12.0210549 ]]\n"
     ]
    }
   ],
   "source": [
    "print(\"Synapses after training \",end='\\n\\n')\n",
    "print(syn0,syn1,end='\\n',sep='\\n\\n')"
   ]
  },
  {
   "cell_type": "code",
   "execution_count": null,
   "metadata": {},
   "outputs": [],
   "source": []
  }
 ],
 "metadata": {
  "kernelspec": {
   "display_name": "Python 3",
   "language": "python",
   "name": "python3"
  },
  "language_info": {
   "codemirror_mode": {
    "name": "ipython",
    "version": 3
   },
   "file_extension": ".py",
   "mimetype": "text/x-python",
   "name": "python",
   "nbconvert_exporter": "python",
   "pygments_lexer": "ipython3",
   "version": "3.6.4"
  }
 },
 "nbformat": 4,
 "nbformat_minor": 2
}
